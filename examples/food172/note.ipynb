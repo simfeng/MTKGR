{
 "cells": [
  {
   "cell_type": "markdown",
   "metadata": {},
   "source": [
    "## Food-172 整理出小测试集"
   ]
  },
  {
   "cell_type": "code",
   "execution_count": 4,
   "metadata": {},
   "outputs": [
    {
     "name": "stdout",
     "output_type": "stream",
     "text": [
      "TR.txt origin len: 66071\n",
      "TR.txt labeled len: 43517\n",
      "TR.txt unlabeled len: 22554\n",
      "----------------\n",
      "VAL.txt origin len: 11016\n",
      "VAL.txt labeled len: 7163\n",
      "VAL.txt unlabeled len: 3853\n",
      "----------------\n",
      "TE.txt origin len: 33154\n",
      "TE.txt labeled len: 21785\n",
      "TE.txt unlabeled len: 11369\n",
      "----------------\n"
     ]
    }
   ],
   "source": [
    "from pathlib import Path\n",
    "import os\n",
    "root = Path('/www/datasets/') / 'Food172'\n",
    "image_dir = root / 'ready_chinese_food'\n",
    "label_dir = root / 'SplitAndIngreLabel'\n",
    "\n",
    "ratio = 0.7\n",
    "for split in ['TR.txt', 'VAL.txt', 'TE.txt']:\n",
    "    labeled_filename = f'labeled_{int(ratio*100)}_{split}'\n",
    "    unlabeled_filename = f'unlabeled_{int(ratio*100)}_{split}'\n",
    "\n",
    "    temp_images = []\n",
    "    with open(label_dir / split, 'r') as f:\n",
    "        for line in f.readlines():\n",
    "            _line = line.rstrip('\\n')\n",
    "            temp_images.append(_line)\n",
    "    \n",
    "    print(f'{split} origin len:', len(temp_images))\n",
    "    num = int(len(temp_images) * ratio)\n",
    "    # 从temp_images中随机选取num个元素，每个image都是一个str，格式为 /cate/xxx.jpg, 其中 cate 是文件分类。要求每个cate的数量都是一样的\n",
    "    labeled_images = []\n",
    "    unlabeled_images = []\n",
    "    for i in range(172):\n",
    "        _cate_images = [x for x in temp_images if x.startswith(f'/{i+1}/')]\n",
    "        labeled_images.extend(_cate_images[:num // 172])\n",
    "        unlabeled_images.extend(_cate_images[num // 172:])\n",
    "\n",
    "    print(f'{split} labeled len:', len(labeled_images))\n",
    "    print(f'{split} unlabeled len:', len(unlabeled_images))\n",
    "    print('----------------')\n",
    "    \n",
    "    # save to txt file\n",
    "    with open(label_dir / labeled_filename, 'w') as f:\n",
    "        for image in labeled_images:\n",
    "            f.write(image + '\\n')\n",
    "\n",
    "    with open(label_dir / unlabeled_filename, 'w') as f:\n",
    "        for image in unlabeled_images:\n",
    "            f.write(image + '\\n')\n",
    "            \n"
   ]
  },
  {
   "cell_type": "markdown",
   "metadata": {},
   "source": [
    "## 标签统计"
   ]
  },
  {
   "cell_type": "code",
   "execution_count": null,
   "metadata": {},
   "outputs": [],
   "source": [
    "from pprint import pprint\n",
    "from create_dataset import Food172"
   ]
  },
  {
   "cell_type": "code",
   "execution_count": null,
   "metadata": {},
   "outputs": [],
   "source": [
    "\n",
    "food172 = Food172('/www/datasets/Food172', sub_labels=[0, 308])\n",
    "image_ingredient_label_map = food172.image_ingredient_label_map\n",
    "\n",
    "# ingredient_label_names\n",
    "# ingredient_label_names = food172.ingredient_label_names\n",
    "print(len(image_ingredient_label_map))"
   ]
  },
  {
   "cell_type": "code",
   "execution_count": null,
   "metadata": {},
   "outputs": [],
   "source": [
    "ingredient_label_names = food172.ingredient_label_names\n",
    "print(ingredient_label_names)"
   ]
  },
  {
   "cell_type": "code",
   "execution_count": null,
   "metadata": {},
   "outputs": [],
   "source": [
    "# 统计每个食材出现的次数\n",
    "ingredient_count = {}\n",
    "for image_name, ingredient_label in image_ingredient_label_map.items():\n",
    "    for i, label in enumerate(ingredient_label):\n",
    "        if label == 1:\n",
    "            if i not in ingredient_count:\n",
    "                ingredient_count[i] = 1\n",
    "            else:\n",
    "                ingredient_count[i] += 1\n",
    "# pprint(ingredient_count)"
   ]
  },
  {
   "cell_type": "code",
   "execution_count": null,
   "metadata": {},
   "outputs": [],
   "source": [
    "sorted_ingredient_count = sorted(ingredient_count.items(), key=lambda x: x[1], reverse=True)\n",
    "pprint(sorted_ingredient_count[:1])\n",
    "pprint(sorted_ingredient_count[-1:])\n",
    "# ingredient_name_count\n",
    "ingredient_name_count = {}\n",
    "for i, count in ingredient_count.items():\n",
    "    ingredient_name_count[ingredient_label_names[i]] = count\n",
    "\n",
    "# print ingredient_name_count with top 10\n",
    "sorted_ingredient_name_count = sorted(ingredient_name_count.items(), key=lambda x: x[1], reverse=True)\n",
    "# pprint(sorted_ingredient_name_count[:10])"
   ]
  },
  {
   "cell_type": "code",
   "execution_count": null,
   "metadata": {},
   "outputs": [],
   "source": [
    "masks={'dish pred': 1}"
   ]
  },
  {
   "cell_type": "code",
   "execution_count": null,
   "metadata": {},
   "outputs": [],
   "source": [
    "a = ''\n",
    "b = a.split(',').remove('')\n",
    "# b.remove('')\n",
    "print(b)\n"
   ]
  },
  {
   "cell_type": "code",
   "execution_count": null,
   "metadata": {},
   "outputs": [],
   "source": [
    "# 定义一个字符串，包含函数代码\n",
    "func_str = \"def add(x, y):\\n    return x + y\"\n",
    "\n",
    "# 使用 eval() 函数将字符串转换为函数\n",
    "add_func = eval(func_str)\n",
    "\n",
    "# 调用函数\n",
    "result = add_func(2, 3)\n",
    "\n",
    "# 输出结果\n",
    "print(result) # 输出 5\n"
   ]
  },
  {
   "cell_type": "code",
   "execution_count": 3,
   "metadata": {},
   "outputs": [],
   "source": [
    "import pandas as pd\n",
    "from create_dataset import Food172\n",
    "\n",
    "\n",
    "data_prefix = 'sub_50_'\n",
    "sub_labels = []\n",
    "dataset_path = '/www/datasets/Food172'\n",
    "num_classes = 172\n",
    "\n",
    "food172_train_set = Food172(root=dataset_path, prefix=data_prefix, \n",
    "                            sub_labels=sub_labels, mode='trainval',\n",
    "                            augmentation=False)\n",
    "\n",
    "# 根据 train set 构建知识图谱\n",
    "multiclass_label = food172_train_set.multiclass # food标签 [1, 0, 2, ......, 171, 171, 171]\n",
    "multilabel_label = food172_train_set.multilabel # 食材标签 [[0, 1, 1, ..., 0], [0, 1, 1, ..., 1], [0, 1, 1, ..., 1], ..., [0, 1, 1, ..., 1]]\n",
    "\n",
    "assert len(multiclass_label) == len(multilabel_label)\n",
    "\n",
    "pd_multiclass_label = pd.DataFrame(multiclass_label)\n",
    "pd_multilabel_label = pd.DataFrame(multilabel_label)\n"
   ]
  },
  {
   "cell_type": "code",
   "execution_count": 4,
   "metadata": {},
   "outputs": [
    {
     "name": "stdout",
     "output_type": "stream",
     "text": [
      "2\n"
     ]
    }
   ],
   "source": [
    "import pandas as pd\n",
    "\n",
    "# 假设你有一个 DataFrame df，大小为 (516, 1)\n",
    "# 创建一个示例 DataFrame\n",
    "data = {'column_name': [0, 2, 1, 3, 2, 0]}\n",
    "df = pd.DataFrame(data)\n",
    "\n",
    "# 查找值为 i 的索引\n",
    "i = 2\n",
    "indices = df[df['column_name'] == i].index\n",
    "\n",
    "print(df['column_name'][1])"
   ]
  },
  {
   "cell_type": "code",
   "execution_count": 1,
   "metadata": {},
   "outputs": [
    {
     "name": "stdout",
     "output_type": "stream",
     "text": [
      "tensor([[0, 1, 1],\n",
      "        [0, 1, 1]], dtype=torch.int32)\n"
     ]
    }
   ],
   "source": [
    "import torch\n",
    "a = {\n",
    "    'b': [1, 2, 2],\n",
    "    'a': [[1, 2, 2], [1, 2, 2]]\n",
    "    }\n",
    "\n",
    "aa = torch.tensor([[1, 2, 2], [1, 2, 2]])\n",
    "bb = (aa > 1).int()\n",
    "print(bb)"
   ]
  }
 ],
 "metadata": {
  "kernelspec": {
   "display_name": "libmtl",
   "language": "python",
   "name": "python3"
  },
  "language_info": {
   "codemirror_mode": {
    "name": "ipython",
    "version": 3
   },
   "file_extension": ".py",
   "mimetype": "text/x-python",
   "name": "python",
   "nbconvert_exporter": "python",
   "pygments_lexer": "ipython3",
   "version": "3.8.16"
  },
  "orig_nbformat": 4
 },
 "nbformat": 4,
 "nbformat_minor": 2
}
